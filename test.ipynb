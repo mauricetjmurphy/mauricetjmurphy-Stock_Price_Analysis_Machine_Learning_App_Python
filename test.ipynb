{
 "cells": [
  {
   "cell_type": "code",
   "execution_count": 12,
   "metadata": {},
   "outputs": [],
   "source": [
    "import torch\n",
    "from flask import render_template, url_for, flash, request, redirect, jsonify, session, send_file\n",
    "import pandas as pd\n",
    "import json\n",
    "import matplotlib.pyplot as plt\n",
    "import plotly\n",
    "import plotly.graph_objs as go\n",
    "import plotly.figure_factory as ff\n",
    "import plotly_express as px\n",
    "import seaborn as sns\n",
    "import yfinance as yf\n",
    "import joblib\n",
    "from datetime import date\n",
    "import os.path\n",
    "from transformers import BertTokenizer\n",
    "# from tweetDataCollector import TwitterData\n",
    "import pandas as pd\n",
    "import numpy as np\n",
    "import yfinance as yf\n",
    "from yahoo_fin import stock_info as si\n",
    "import requests\n",
    "import pickle"
   ]
  },
  {
   "cell_type": "code",
   "execution_count": 13,
   "metadata": {},
   "outputs": [],
   "source": [
    "# df = pd.read_csv(f'app/static/data/3M_Data.csv', sep='|')\n",
    "# df\n"
   ]
  },
  {
   "cell_type": "code",
   "execution_count": 14,
   "metadata": {},
   "outputs": [],
   "source": [
    "# tokenizer = BertTokenizer.from_pretrained('bert-base-cased')"
   ]
  },
  {
   "cell_type": "code",
   "execution_count": 15,
   "metadata": {},
   "outputs": [],
   "source": [
    "# token_lens = []\n",
    "\n",
    "# for txt in df.text:\n",
    "#   tokens = tokenizer.encode(txt, max_length=512)\n",
    "#   token_lens.append(len(tokens))\n",
    "\n"
   ]
  },
  {
   "cell_type": "code",
   "execution_count": 16,
   "metadata": {},
   "outputs": [],
   "source": [
    "# sns.distplot(token_lens)\n",
    "# # plt.xlim([0, 256])\n",
    "# # plt.xlabel('Token count')"
   ]
  },
  {
   "cell_type": "code",
   "execution_count": 17,
   "metadata": {},
   "outputs": [],
   "source": [
    "# labels = ['distplot'] # name of the dataset\n",
    "\n",
    "# fig = ff.create_distplot([token_lens], labels)\n",
    "# fig.show()"
   ]
  },
  {
   "cell_type": "code",
   "execution_count": 18,
   "metadata": {},
   "outputs": [],
   "source": [
    "# table=pd.read_html('https://en.wikipedia.org/wiki/List_of_S%26P_500_companies')\n",
    "# stocks = table[0]\n",
    "# tickers = stocks['Symbol'].tolist()\n",
    "# stock_names = stocks['Security'].tolist()\n",
    "# df = pd.DataFrame()\n",
    "\n",
    "\n",
    "# res = {tickers[i]: stock_names[i] for i in range(len(tickers))}\n",
    "# res = [list(a) for a in zip(tickers, stock_names)]\n",
    "# res\n",
    "\n",
    "# pickle_out = open('stocks_dict.pkl', 'wb')\n",
    "# pickle.dump(res, pickle_out)\n",
    "# pickle_out.close()"
   ]
  },
  {
   "cell_type": "code",
   "execution_count": 19,
   "metadata": {},
   "outputs": [],
   "source": [
    "# pickle_in = open('stocks_dict.pkl', 'rb')\n",
    "# res = pickle.load(pickle_in)\n",
    "\n",
    "\n",
    "# print(res)"
   ]
  }
 ],
 "metadata": {
  "interpreter": {
   "hash": "0ff0b694772f7f82f031183b0f62fa4d8d59acdecffccf4120abac6cd03cc6d9"
  },
  "kernelspec": {
   "display_name": "Python 3.7.9 64-bit ('ML_2021': conda)",
   "name": "python3"
  },
  "language_info": {
   "codemirror_mode": {
    "name": "ipython",
    "version": 3
   },
   "file_extension": ".py",
   "mimetype": "text/x-python",
   "name": "python",
   "nbconvert_exporter": "python",
   "pygments_lexer": "ipython3",
   "version": "3.7.9"
  },
  "orig_nbformat": 4
 },
 "nbformat": 4,
 "nbformat_minor": 2
}
